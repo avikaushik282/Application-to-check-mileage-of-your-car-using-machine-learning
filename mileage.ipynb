{
 "cells": [
  {
   "cell_type": "code",
   "execution_count": 1,
   "metadata": {},
   "outputs": [],
   "source": [
    "import pandas as pd"
   ]
  },
  {
   "cell_type": "code",
   "execution_count": 15,
   "metadata": {},
   "outputs": [],
   "source": [
    "from tkinter import *"
   ]
  },
  {
   "cell_type": "code",
   "execution_count": 5,
   "metadata": {},
   "outputs": [],
   "source": [
    "from sklearn.model_selection import train_test_split"
   ]
  },
  {
   "cell_type": "code",
   "execution_count": 9,
   "metadata": {},
   "outputs": [],
   "source": [
    "from sklearn.linear_model import LinearRegression"
   ]
  },
  {
   "cell_type": "code",
   "execution_count": 10,
   "metadata": {},
   "outputs": [],
   "source": [
    "data = pd.read_csv('data.csv')"
   ]
  },
  {
   "cell_type": "code",
   "execution_count": 11,
   "metadata": {},
   "outputs": [
    {
     "name": "stdout",
     "output_type": "stream",
     "text": [
      "<class 'pandas.core.frame.DataFrame'>\n",
      "RangeIndex: 398 entries, 0 to 397\n",
      "Data columns (total 9 columns):\n",
      " #   Column               Non-Null Count  Dtype  \n",
      "---  ------               --------------  -----  \n",
      " 0   origin               398 non-null    int64  \n",
      " 1   cylinders            398 non-null    int64  \n",
      " 2   displacement         398 non-null    float64\n",
      " 3   horsepower           392 non-null    float64\n",
      " 4   weight               398 non-null    int64  \n",
      " 5   acceleration         398 non-null    float64\n",
      " 6   year                 398 non-null    int64  \n",
      " 7   name                 398 non-null    object \n",
      " 8   Kilometer_per_liter  398 non-null    float64\n",
      "dtypes: float64(4), int64(4), object(1)\n",
      "memory usage: 28.1+ KB\n"
     ]
    }
   ],
   "source": [
    "data.info()"
   ]
  },
  {
   "cell_type": "code",
   "execution_count": 12,
   "metadata": {},
   "outputs": [
    {
     "name": "stdout",
     "output_type": "stream",
     "text": [
      "<class 'pandas.core.frame.DataFrame'>\n",
      "RangeIndex: 398 entries, 0 to 397\n",
      "Data columns (total 9 columns):\n",
      " #   Column               Non-Null Count  Dtype  \n",
      "---  ------               --------------  -----  \n",
      " 0   origin               398 non-null    int64  \n",
      " 1   cylinders            398 non-null    int64  \n",
      " 2   displacement         398 non-null    float64\n",
      " 3   horsepower           398 non-null    float64\n",
      " 4   weight               398 non-null    int64  \n",
      " 5   acceleration         398 non-null    float64\n",
      " 6   year                 398 non-null    int64  \n",
      " 7   name                 398 non-null    object \n",
      " 8   Kilometer_per_liter  398 non-null    float64\n",
      "dtypes: float64(4), int64(4), object(1)\n",
      "memory usage: 28.1+ KB\n"
     ]
    }
   ],
   "source": [
    "data['horsepower'].fillna(data['horsepower'].mean(),inplace=True)\n",
    "data.info()"
   ]
  },
  {
   "cell_type": "code",
   "execution_count": 13,
   "metadata": {},
   "outputs": [],
   "source": [
    "X = data[['origin', 'cylinders', 'displacement', 'horsepower','weight','acceleration', 'year']]\n",
    "Y = data['Kilometer_per_liter']\n",
    "X_train, X_test, Y_train, Y_test = train_test_split(X, Y, test_size=0.30, random_state=101)"
   ]
  },
  {
   "cell_type": "code",
   "execution_count": 41,
   "metadata": {},
   "outputs": [],
   "source": [
    "window=Tk()\n",
    "window.title('Mileage Calculator')\n",
    "window.config(padx=50, pady=50)\n",
    "lr=LinearRegression()\n",
    "lr.fit(X_train,Y_train)\n",
    "\n",
    "def mil():\n",
    "    pred_y=lr.predict(X_test)\n",
    "    z=lr.predict([[int(input1.get()),int(input2.get()),int(input3.get()),int(input4.get()),int(input5.get()),int(input6.get()),int(input7.get())]])\n",
    "    label6.config(text=f\"{z[0]} km/l\")\n",
    "\n",
    "label=Label(text='Origin:')\n",
    "label.grid(row=0,column=0)\n",
    "\n",
    "input1=Entry()\n",
    "input1.grid(row=0,column=1)\n",
    "\n",
    "label1=Label(text='Cylinders:')\n",
    "label1.grid(row=1,column=0)\n",
    "\n",
    "input2=Entry()\n",
    "input2.grid(row=1,column=1)\n",
    "\n",
    "label2=Label(text='Displacement:')\n",
    "label2.grid(row=2,column=0)\n",
    "\n",
    "input3=Entry()\n",
    "input3.grid(row=2,column=1)\n",
    "\n",
    "label3=Label(text='Horsepower:')\n",
    "label3.grid(row=3,column=0)\n",
    "\n",
    "input4=Entry()\n",
    "input4.grid(row=3,column=1)\n",
    "\n",
    "label4=Label(text='Weight:')\n",
    "label4.grid(row=4,column=0)\n",
    "\n",
    "input5=Entry()\n",
    "input5.grid(row=4,column=1)\n",
    "\n",
    "label5=Label(text='Acceleration:')\n",
    "label5.grid(row=5,column=0)\n",
    "\n",
    "input6=Entry()\n",
    "input6.grid(row=5,column=1)\n",
    "\n",
    "label6=Label(text='Year:')\n",
    "label6.grid(row=6,column=0)\n",
    "\n",
    "input7=Entry()\n",
    "input7.grid(row=6,column=1)\n",
    "\n",
    "but=Button(text='Calculate Mileage!', command=mil)\n",
    "but.grid(row=7,column=1)\n",
    "\n",
    "label6=Label(text='Result is displayed here',font=('Newsreader',30),fg='red')\n",
    "label6.grid(row=8,column=1)\n",
    "\n",
    "window.mainloop()"
   ]
  },
  {
   "cell_type": "code",
   "execution_count": null,
   "metadata": {},
   "outputs": [],
   "source": []
  }
 ],
 "metadata": {
  "kernelspec": {
   "display_name": "Python 3",
   "language": "python",
   "name": "python3"
  },
  "language_info": {
   "codemirror_mode": {
    "name": "ipython",
    "version": 3
   },
   "file_extension": ".py",
   "mimetype": "text/x-python",
   "name": "python",
   "nbconvert_exporter": "python",
   "pygments_lexer": "ipython3",
   "version": "3.8.5"
  }
 },
 "nbformat": 4,
 "nbformat_minor": 4
}
